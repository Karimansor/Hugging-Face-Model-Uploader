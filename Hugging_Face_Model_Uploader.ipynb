{
  "nbformat": 4,
  "nbformat_minor": 0,
  "metadata": {
    "colab": {
      "provenance": [],
      "collapsed_sections": [
        "2HV_M178Nv-T"
      ]
    },
    "kernelspec": {
      "name": "python3",
      "display_name": "Python 3"
    },
    "language_info": {
      "name": "python"
    }
  },
  "cells": [
    {
      "cell_type": "markdown",
      "source": [
        "# Hugging Face Model Uploader\n",
        "\n",
        "A simple Python script for pushing a local model directory to the Hugging Face Hub.  \n",
        "Asks interactively for your username, repository name, local path, and access token.\n",
        "\n",
        "## Features\n",
        "\n",
        "- Interactive prompts for all required inputs  \n",
        "- Automatically clones or creates the repository on Hugging Face  \n",
        "- Pushes all files in the specified local folder  \n",
        "- Prints the final repository URL\n",
        "\n",
        "## Requirements\n",
        "\n",
        "- Python 3.7 or higher  \n",
        "- `huggingface_hub` library\n",
        "\n",
        "\n"
      ],
      "metadata": {
        "id": "2HV_M178Nv-T"
      }
    },
    {
      "cell_type": "code",
      "execution_count": 1,
      "metadata": {
        "colab": {
          "base_uri": "https://localhost:8080/"
        },
        "id": "_eRL6TdzLjdR",
        "outputId": "af93cf01-946a-4089-a219-b1d44d52736a"
      },
      "outputs": [
        {
          "output_type": "stream",
          "name": "stdout",
          "text": [
            "Requirement already satisfied: huggingface_hub in /usr/local/lib/python3.11/dist-packages (0.32.4)\n",
            "Requirement already satisfied: transformers in /usr/local/lib/python3.11/dist-packages (4.52.4)\n",
            "Requirement already satisfied: filelock in /usr/local/lib/python3.11/dist-packages (from huggingface_hub) (3.18.0)\n",
            "Requirement already satisfied: fsspec>=2023.5.0 in /usr/local/lib/python3.11/dist-packages (from huggingface_hub) (2025.3.2)\n",
            "Requirement already satisfied: packaging>=20.9 in /usr/local/lib/python3.11/dist-packages (from huggingface_hub) (24.2)\n",
            "Requirement already satisfied: pyyaml>=5.1 in /usr/local/lib/python3.11/dist-packages (from huggingface_hub) (6.0.2)\n",
            "Requirement already satisfied: requests in /usr/local/lib/python3.11/dist-packages (from huggingface_hub) (2.32.3)\n",
            "Requirement already satisfied: tqdm>=4.42.1 in /usr/local/lib/python3.11/dist-packages (from huggingface_hub) (4.67.1)\n",
            "Requirement already satisfied: typing-extensions>=3.7.4.3 in /usr/local/lib/python3.11/dist-packages (from huggingface_hub) (4.14.0)\n",
            "Requirement already satisfied: hf-xet<2.0.0,>=1.1.2 in /usr/local/lib/python3.11/dist-packages (from huggingface_hub) (1.1.2)\n",
            "Requirement already satisfied: numpy>=1.17 in /usr/local/lib/python3.11/dist-packages (from transformers) (2.0.2)\n",
            "Requirement already satisfied: regex!=2019.12.17 in /usr/local/lib/python3.11/dist-packages (from transformers) (2024.11.6)\n",
            "Requirement already satisfied: tokenizers<0.22,>=0.21 in /usr/local/lib/python3.11/dist-packages (from transformers) (0.21.1)\n",
            "Requirement already satisfied: safetensors>=0.4.3 in /usr/local/lib/python3.11/dist-packages (from transformers) (0.5.3)\n",
            "Requirement already satisfied: charset-normalizer<4,>=2 in /usr/local/lib/python3.11/dist-packages (from requests->huggingface_hub) (3.4.2)\n",
            "Requirement already satisfied: idna<4,>=2.5 in /usr/local/lib/python3.11/dist-packages (from requests->huggingface_hub) (3.10)\n",
            "Requirement already satisfied: urllib3<3,>=1.21.1 in /usr/local/lib/python3.11/dist-packages (from requests->huggingface_hub) (2.4.0)\n",
            "Requirement already satisfied: certifi>=2017.4.17 in /usr/local/lib/python3.11/dist-packages (from requests->huggingface_hub) (2025.4.26)\n"
          ]
        }
      ],
      "source": [
        "pip install huggingface_hub transformers\n"
      ]
    },
    {
      "cell_type": "code",
      "source": [
        "from google.colab import drive\n",
        "drive.mount('/content/drive')"
      ],
      "metadata": {
        "colab": {
          "base_uri": "https://localhost:8080/"
        },
        "id": "zSrZKPAyL7jU",
        "outputId": "98df1cf7-0a2f-41f8-ccf0-2525e1f4d7a6"
      },
      "execution_count": 3,
      "outputs": [
        {
          "output_type": "stream",
          "name": "stdout",
          "text": [
            "Mounted at /content/drive\n"
          ]
        }
      ]
    },
    {
      "cell_type": "code",
      "source": [
        "from huggingface_hub import HfApi\n",
        "\n",
        "repo_id = input(\"Enter your Hugging Face repo (username/repository): \")\n",
        "local_model_path = input(\"Enter the local path to your model folder: \")\n",
        "hf_token = input(\"Enter your Hugging Face access token: \")\n",
        "\n",
        "api = HfApi()\n",
        "\n",
        "repo_name = repo_id.split('/')[-1]\n",
        "\n",
        "try:\n",
        "    api.create_repo(token=hf_token, name=repo_name, private=False)\n",
        "except Exception as e:\n",
        "    print(f\"Repo creation skipped or failed: {e}\")\n",
        "\n",
        "api.upload_folder(\n",
        "    folder_path=local_model_path,\n",
        "    repo_id=repo_id,\n",
        "    token=hf_token,\n",
        "    path_in_repo=\"\",\n",
        "    repo_type=\"model\",\n",
        ")\n",
        "\n",
        "print(f\"Model pushed to https://huggingface.co/{repo_id}\")\n"
      ],
      "metadata": {
        "id": "NExt_mQ1L5RE"
      },
      "execution_count": null,
      "outputs": []
    }
  ]
}